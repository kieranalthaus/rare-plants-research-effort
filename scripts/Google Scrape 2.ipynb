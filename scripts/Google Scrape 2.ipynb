{
 "cells": [
  {
   "cell_type": "code",
   "execution_count": 15,
   "metadata": {},
   "outputs": [],
   "source": [
    "import pandas as pd\n",
    "import requests\n",
    "from datetime import datetime\n",
    "from bs4 import BeautifulSoup\n",
    "import time\n",
    "from concurrent.futures import ProcessPoolExecutor, as_completed"
   ]
  },
  {
   "cell_type": "code",
   "execution_count": null,
   "metadata": {
    "scrolled": true
   },
   "outputs": [],
   "source": [
    "df = pd.read_csv('searchList.csv')\n",
    "sppList = df.values.tolist()\n",
    "sppList"
   ]
  },
  {
   "cell_type": "code",
   "execution_count": 17,
   "metadata": {},
   "outputs": [],
   "source": [
    "def sppSearch(searchName):\n",
    "    t0 = time.time()\n",
    "    url = \"APIE KEY HERE\"\n",
    "    check = False\n",
    "    for attempt in range(3):\n",
    "        while check is False:\n",
    "            try: \n",
    "                name = searchName[19].replace(\" \",\"%20\")\n",
    "                name = '\"'+name+'\"'\n",
    "                r = requests.get(url+name)\n",
    "                soup = BeautifulSoup(r.content, 'lxml')\n",
    "                result = soup.find_all('div',class_='gs_ab_mdw')[1].text\n",
    "                check = len(result) > 1\n",
    "            except Exception: \n",
    "                continue\n",
    "            break\n",
    "    t1 = time.time()\n",
    "    dur = round(t1-t0,2)\n",
    "    print(searchName[1],result,dur)\n",
    "    return(searchName[1],result,dur)"
   ]
  },
  {
   "cell_type": "code",
   "execution_count": null,
   "metadata": {
    "scrolled": true
   },
   "outputs": [],
   "source": [
    "results = []\n",
    "\n",
    "with ProcessPoolExecutor(max_workers=10) as executor:\n",
    "    start = time.time()\n",
    "    futures = {executor.submit(sppSearch, spp): spp for spp in sppList }\n",
    "    for result in as_completed(futures):\n",
    "        link = futures.get(result)\n",
    "        try:\n",
    "            data = result.result()\n",
    "        except Exception as e:\n",
    "            print(e)\n",
    "        else:\n",
    "            results.append(data)\n",
    "    end = time.time()\n",
    "    print(\"Time Taken: {:.6f}s\".format(end-start))"
   ]
  },
  {
   "cell_type": "code",
   "execution_count": null,
   "metadata": {},
   "outputs": [],
   "source": [
    "res = pd.DataFrame(results, columns = ['sciName','result','time'])\n",
    "res"
   ]
  },
  {
   "cell_type": "code",
   "execution_count": null,
   "metadata": {
    "scrolled": true
   },
   "outputs": [],
   "source": [
    "res['count'] = res['result'].str.extract('(.*) result')\n",
    "res['count'] = res['count'].str.replace(',','')\n",
    "res['count'] = res['count'].str.replace('About ','')\n",
    "res['count'] = res['count'].fillna(0)\n",
    "res['count'] = pd.to_numeric(res['count'])"
   ]
  },
  {
   "cell_type": "code",
   "execution_count": null,
   "metadata": {},
   "outputs": [],
   "source": [
    "res['count'] = res['result'].str.extract('(.*) result')\n",
    "res"
   ]
  },
  {
   "cell_type": "code",
   "execution_count": null,
   "metadata": {},
   "outputs": [],
   "source": [
    "res['count'] = res['count'].str.replace(',','')\n",
    "res"
   ]
  },
  {
   "cell_type": "code",
   "execution_count": null,
   "metadata": {},
   "outputs": [],
   "source": [
    "res['count'] = res['count'].str.replace('About ','')\n",
    "res"
   ]
  },
  {
   "cell_type": "code",
   "execution_count": null,
   "metadata": {},
   "outputs": [],
   "source": [
    "res['count'] = res['count'].str.replace(' ','')\n",
    "res"
   ]
  },
  {
   "cell_type": "code",
   "execution_count": null,
   "metadata": {},
   "outputs": [],
   "source": [
    "res['count'] = pd.to_numeric(res['count'])\n",
    "res"
   ]
  },
  {
   "cell_type": "code",
   "execution_count": null,
   "metadata": {},
   "outputs": [],
   "source": [
    "res[:754]"
   ]
  },
  {
   "cell_type": "code",
   "execution_count": 37,
   "metadata": {},
   "outputs": [],
   "source": [
    "res.loc[753,['count']] = 2650"
   ]
  },
  {
   "cell_type": "code",
   "execution_count": 40,
   "metadata": {},
   "outputs": [],
   "source": [
    "res.loc[1305,['count']] = 5320"
   ]
  },
  {
   "cell_type": "code",
   "execution_count": 42,
   "metadata": {},
   "outputs": [],
   "source": [
    "res.loc[3509,['count']] = 2350"
   ]
  },
  {
   "cell_type": "code",
   "execution_count": 44,
   "metadata": {},
   "outputs": [],
   "source": [
    "res.loc[6114,['count']] = 5850"
   ]
  },
  {
   "cell_type": "code",
   "execution_count": 46,
   "metadata": {},
   "outputs": [],
   "source": [
    "res.loc[9006,['count']] = 1120"
   ]
  },
  {
   "cell_type": "code",
   "execution_count": 48,
   "metadata": {},
   "outputs": [],
   "source": [
    "res.loc[9306,['count']] = 1780"
   ]
  },
  {
   "cell_type": "code",
   "execution_count": 50,
   "metadata": {},
   "outputs": [],
   "source": [
    "res.loc[10208,['count']] = 21800"
   ]
  },
  {
   "cell_type": "code",
   "execution_count": null,
   "metadata": {
    "scrolled": true
   },
   "outputs": [],
   "source": [
    "res['count'] = res['count'].fillna(0)\n",
    "res"
   ]
  },
  {
   "cell_type": "code",
   "execution_count": 52,
   "metadata": {},
   "outputs": [],
   "source": [
    "res['count'] = pd.to_numeric(res['count'])"
   ]
  },
  {
   "cell_type": "code",
   "execution_count": 53,
   "metadata": {},
   "outputs": [],
   "source": [
    "res.to_csv('ScholarResults20210322.csv')"
   ]
  },
  {
   "cell_type": "code",
   "execution_count": null,
   "metadata": {
    "scrolled": true
   },
   "outputs": [],
   "source": [
    "import seaborn as sns\n",
    "sns.boxplot(data=res['time'])"
   ]
  },
  {
   "cell_type": "code",
   "execution_count": null,
   "metadata": {},
   "outputs": [],
   "source": [
    "res['time'].describe()"
   ]
  },
  {
   "cell_type": "code",
   "execution_count": null,
   "metadata": {},
   "outputs": [],
   "source": [
    "res"
   ]
  },
  {
   "cell_type": "code",
   "execution_count": 70,
   "metadata": {},
   "outputs": [],
   "source": [
    "df = df.merge(res,how='left',left_on='Scientific Name',right_on='sciName')"
   ]
  },
  {
   "cell_type": "code",
   "execution_count": 73,
   "metadata": {
    "scrolled": true
   },
   "outputs": [],
   "source": [
    "df = df.drop(['searchName','sciName','result','time'],axis=1)"
   ]
  },
  {
   "cell_type": "code",
   "execution_count": 75,
   "metadata": {},
   "outputs": [],
   "source": [
    "df = df.drop(['Unnamed: 0'],axis=1)"
   ]
  },
  {
   "cell_type": "code",
   "execution_count": 81,
   "metadata": {},
   "outputs": [],
   "source": [
    "df.to_csv('AllNames20210322.csv',index=False)"
   ]
  },
  {
   "cell_type": "code",
   "execution_count": 84,
   "metadata": {},
   "outputs": [],
   "source": [
    "an = df.groupby('Accepted Name',sort=False)['count'].sum().reset_index(name = 'Accepted Count')"
   ]
  },
  {
   "cell_type": "code",
   "execution_count": null,
   "metadata": {},
   "outputs": [],
   "source": [
    "len(df['Accepted Name'].unique())"
   ]
  },
  {
   "cell_type": "code",
   "execution_count": 93,
   "metadata": {},
   "outputs": [],
   "source": [
    "an = an.merge(df,how='left',left_on='Accepted Name',right_on='Scientific Name')"
   ]
  },
  {
   "cell_type": "code",
   "execution_count": 100,
   "metadata": {},
   "outputs": [],
   "source": [
    "an = an.drop('count',axis=1)"
   ]
  },
  {
   "cell_type": "code",
   "execution_count": 103,
   "metadata": {},
   "outputs": [],
   "source": [
    "an = an.drop(['Scientific Name','Accepted Name_y'],axis=1)"
   ]
  },
  {
   "cell_type": "code",
   "execution_count": null,
   "metadata": {},
   "outputs": [],
   "source": [
    "an.columns.tolist()"
   ]
  },
  {
   "cell_type": "code",
   "execution_count": 106,
   "metadata": {},
   "outputs": [],
   "source": [
    "an.columns = ['Scientific Name',\n",
    " 'Literature Count',\n",
    " 'Jepson Common Name',\n",
    " 'Status',\n",
    " 'Jepson Link',\n",
    " 'CNPS Common Name',\n",
    " 'Family',\n",
    " 'Lifeform',\n",
    " 'CRPR',\n",
    " 'SRank',\n",
    " 'CESA',\n",
    " 'NatureServe Common Name',\n",
    " 'Species Group',\n",
    " 'NatureServe Global Rank',\n",
    " 'NatureServe Rounded Global Rank',\n",
    " 'U.S. Endangered Species Act Status',\n",
    " 'Distribution',\n",
    " 'View on NatureServe Explorer']"
   ]
  },
  {
   "cell_type": "code",
   "execution_count": 108,
   "metadata": {},
   "outputs": [],
   "source": [
    "an.to_csv('AcceptedNames20210322.csv',index=False)"
   ]
  }
 ],
 "metadata": {
  "kernelspec": {
   "display_name": "Python 3",
   "language": "python",
   "name": "python3"
  },
  "language_info": {
   "codemirror_mode": {
    "name": "ipython",
    "version": 3
   },
   "file_extension": ".py",
   "mimetype": "text/x-python",
   "name": "python",
   "nbconvert_exporter": "python",
   "pygments_lexer": "ipython3",
   "version": "3.7.4"
  }
 },
 "nbformat": 4,
 "nbformat_minor": 2
}
